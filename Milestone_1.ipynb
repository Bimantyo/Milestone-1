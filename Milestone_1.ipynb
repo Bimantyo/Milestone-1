{
 "cells": [
  {
   "cell_type": "markdown",
   "id": "5e246782",
   "metadata": {},
   "source": [
    "## 1. INTRODUCTION\n"
   ]
  },
  {
   "cell_type": "markdown",
   "id": "6a2c5c09",
   "metadata": {},
   "source": [
    "=================================================\n",
    "\n",
    "MILESTONE 1 \n",
    "\n",
    "- Nama  : Bimantyo Arya Majid\n",
    "\n",
    "Program ini digunakan untuk menganalisa data penjualan suplemen dalam kurun waktu 5 tahun, dimulai dari Januari 2020 - Desember 2024, yang berbasis di United States of America, United Kingdom, dan Canada pada platform Amazon, Walmart, dan iHerb.\n",
    "\n",
    "URL Dashboard Tableau : https://public.tableau.com/app/profile/bimantyo.arya.majid/viz/P0M1_Bimantyo_arya/Dashboard1?publish=yes\n",
    "\n",
    "================================================="
   ]
  },
  {
   "cell_type": "markdown",
   "id": "40c2774c",
   "metadata": {},
   "source": [
    "## 2. PROBLEM STATEMENT AND DATASET DESCRIPTION"
   ]
  },
  {
   "cell_type": "markdown",
   "id": "71ffdd31",
   "metadata": {},
   "source": [
    "### 2.1 PROBLEM TOPIC\n",
    "Menganalisa performa penjualan produk suplemen kesehatan dan kebugaran yang dijual di E-commerce platform.\n",
    "\n",
    "### 2.2 PROBLEM STATEMENT\n",
    "Menganalisis performa penjualan suplemen kesehatan berdasarkan kategori produk, lokasi dan platform e-commerce dari januari 2020 hingga desember 2024, untuk mengidentifikasi produk dengan penjualan terbaik, efektivitas diskon dan platform penjualan terbaik dengan tujuan memberikan rekomendasi bisnis yang baik untuk pengambilan keputusan.\n",
    "\n",
    "### 2.3 LATAR BELAKANG\n",
    "Kesehatan merupakan salah satu hal yang tidak dapat diabaikan dalam kehidupan. Semenjak COVID-19 masyarakat jauh lebih sadar akan pentingnya kesehatan, hal ini memicu meningkatnya minat terhadap produk kesehatan seperti suplemen untuk membantu meningkatkan imun tubuh seperti protein, vitamins, omega, dan lain lain. Pasca COVID-19 juga merubah pola belanja masyarakat dari yang sebelumnya cenderung untuk membeli secara offline dan beralih ke pembelian secara online melalui E-commerce platforms seperti Amazon, Walmart dan iHerb.\n",
    "\n",
    "Penelitian ini akan berfokus kepada kategori suplemen mana yang memiliki tingkat penjualan terbaik, platform penjualan mana yang paling efektif, bagaimana tren penjualan produk, secara data historis untuk bisa menjadi acuan pengambilan keputusan bisnis.\n",
    "\n",
    "### 2.4 SUMBER DATASET\n",
    "Sumber data set : https://www.kaggle.com/datasets/zahidmughal2343/supplement-sales-data\n",
    "\n",
    "### 2.5 PENJABARAN MASALAH \n",
    "Penjabaran masalah dengan metode 5W+1H:\n",
    "\n",
    "- Kategori produk suplemen kesehatan apa yang memiliki tingkat penjualan paling baik ?\n",
    "- Bagaimana tren penjualan produk antar platform setiap tahunnya ?                                      \n",
    "- Platform mana yang memiliki total pendapatan paling tinggi ?                                          \n",
    "- Platform mana yang menjadi favorit oleh customer untuk berbelanja ?                   \n",
    "- Apakah diskon mempengaruhi penjualan produk ?                                                         \n",
    "- Apakah platform mempengaruhi produk yang dikembalikan (retur) ?                                       \n",
    "\n",
    "### 2.6 DESKRIPSI DATASET \n",
    "\n",
    "Dataset yang digunakan berisikan tentang data penjualan berbagai macam suplemen kesehatan dan kebugaran secara mingguan dari Januari 2020 sampai April 2025. Data ini berisikan produk dalam kategori seperti Protein, Vitamin, Omega, dan Asam Amino. Data ini juga mencakup beberapa e-commerce platforms serperti Amazon, Walmart, dan iHerb. Dataset ini mengambil data penjualan yang berada di beberapa lokasi diantaranya United States of America, United Kingdom, dan Kanada. Dataset ini berasal dari website Kaggle, dataset ini memiliki beberapa kolom utama seperti tanggal penjualan (Date), nama produk (Product Name), kategori produk (Category), jumlah unit terjual (Units Sold), harga (Price), pendapatan (Revenue), diskon (Discount), unit yang dikembalikan (Units Returned), lokasi (Location), dan platform (Platform)."
   ]
  },
  {
   "cell_type": "markdown",
   "id": "d24b636f",
   "metadata": {},
   "source": [
    "## 3. DATA LOADING"
   ]
  },
  {
   "cell_type": "markdown",
   "id": "5b80e3a6",
   "metadata": {},
   "source": [
    "### 3.1 PROSES DATA LOADING MENGGUNAKAN PANDAS "
   ]
  },
  {
   "cell_type": "markdown",
   "id": "d36e4a28",
   "metadata": {},
   "source": [
    "Data loading akan dilakukan menggunakan pandas karena dataset sudah menggunakan format .CSV. Data Frame merupakan tabel atau kumpulan dari suatu series, kemudian untuk mempermudah pengolahan data maka perlu untuk melakukan import package pandas terlebih dahulu."
   ]
  },
  {
   "cell_type": "code",
   "execution_count": 1,
   "id": "4af3d50c",
   "metadata": {},
   "outputs": [
    {
     "data": {
      "text/html": [
       "<div>\n",
       "<style scoped>\n",
       "    .dataframe tbody tr th:only-of-type {\n",
       "        vertical-align: middle;\n",
       "    }\n",
       "\n",
       "    .dataframe tbody tr th {\n",
       "        vertical-align: top;\n",
       "    }\n",
       "\n",
       "    .dataframe thead th {\n",
       "        text-align: right;\n",
       "    }\n",
       "</style>\n",
       "<table border=\"1\" class=\"dataframe\">\n",
       "  <thead>\n",
       "    <tr style=\"text-align: right;\">\n",
       "      <th></th>\n",
       "      <th>Date</th>\n",
       "      <th>Product Name</th>\n",
       "      <th>Category</th>\n",
       "      <th>Units Sold</th>\n",
       "      <th>Price</th>\n",
       "      <th>Revenue</th>\n",
       "      <th>Discount</th>\n",
       "      <th>Units Returned</th>\n",
       "      <th>Location</th>\n",
       "      <th>Platform</th>\n",
       "    </tr>\n",
       "  </thead>\n",
       "  <tbody>\n",
       "    <tr>\n",
       "      <th>0</th>\n",
       "      <td>2020-01-06</td>\n",
       "      <td>Whey Protein</td>\n",
       "      <td>Protein</td>\n",
       "      <td>143</td>\n",
       "      <td>31.98</td>\n",
       "      <td>4573.14</td>\n",
       "      <td>0.03</td>\n",
       "      <td>2</td>\n",
       "      <td>Canada</td>\n",
       "      <td>Walmart</td>\n",
       "    </tr>\n",
       "    <tr>\n",
       "      <th>1</th>\n",
       "      <td>2020-01-06</td>\n",
       "      <td>Vitamin C</td>\n",
       "      <td>Vitamin</td>\n",
       "      <td>139</td>\n",
       "      <td>42.51</td>\n",
       "      <td>5908.89</td>\n",
       "      <td>0.04</td>\n",
       "      <td>0</td>\n",
       "      <td>UK</td>\n",
       "      <td>Amazon</td>\n",
       "    </tr>\n",
       "    <tr>\n",
       "      <th>2</th>\n",
       "      <td>2020-01-06</td>\n",
       "      <td>Fish Oil</td>\n",
       "      <td>Omega</td>\n",
       "      <td>161</td>\n",
       "      <td>12.91</td>\n",
       "      <td>2078.51</td>\n",
       "      <td>0.25</td>\n",
       "      <td>0</td>\n",
       "      <td>Canada</td>\n",
       "      <td>Amazon</td>\n",
       "    </tr>\n",
       "    <tr>\n",
       "      <th>3</th>\n",
       "      <td>2020-01-06</td>\n",
       "      <td>Multivitamin</td>\n",
       "      <td>Vitamin</td>\n",
       "      <td>140</td>\n",
       "      <td>16.07</td>\n",
       "      <td>2249.80</td>\n",
       "      <td>0.08</td>\n",
       "      <td>0</td>\n",
       "      <td>Canada</td>\n",
       "      <td>Walmart</td>\n",
       "    </tr>\n",
       "    <tr>\n",
       "      <th>4</th>\n",
       "      <td>2020-01-06</td>\n",
       "      <td>Pre-Workout</td>\n",
       "      <td>Performance</td>\n",
       "      <td>157</td>\n",
       "      <td>35.47</td>\n",
       "      <td>5568.79</td>\n",
       "      <td>0.25</td>\n",
       "      <td>3</td>\n",
       "      <td>Canada</td>\n",
       "      <td>iHerb</td>\n",
       "    </tr>\n",
       "  </tbody>\n",
       "</table>\n",
       "</div>"
      ],
      "text/plain": [
       "         Date  Product Name     Category  Units Sold  Price  Revenue  \\\n",
       "0  2020-01-06  Whey Protein      Protein         143  31.98  4573.14   \n",
       "1  2020-01-06     Vitamin C      Vitamin         139  42.51  5908.89   \n",
       "2  2020-01-06      Fish Oil        Omega         161  12.91  2078.51   \n",
       "3  2020-01-06  Multivitamin      Vitamin         140  16.07  2249.80   \n",
       "4  2020-01-06   Pre-Workout  Performance         157  35.47  5568.79   \n",
       "\n",
       "   Discount  Units Returned Location Platform  \n",
       "0      0.03               2   Canada  Walmart  \n",
       "1      0.04               0       UK   Amazon  \n",
       "2      0.25               0   Canada   Amazon  \n",
       "3      0.08               0   Canada  Walmart  \n",
       "4      0.25               3   Canada    iHerb  "
      ]
     },
     "execution_count": 1,
     "metadata": {},
     "output_type": "execute_result"
    }
   ],
   "source": [
    "# import package pandas untuk memudahkan pengolahan data \n",
    "import pandas as pd\n",
    "\n",
    "# Data Loading untuk memuat file yang sudah diunduh melalui website kaggle \n",
    "df = pd.read_csv('Supplement_Sales_Weekly_Expanded.csv') \n",
    "\n",
    "# Menggunakan syntax head untuk menampilkan 5 data pertama \n",
    "df.head()"
   ]
  },
  {
   "cell_type": "markdown",
   "id": "350c347a",
   "metadata": {},
   "source": [
    "Setelah berhasil loading dataframe maka akan menampilkan sebuah tabel yang berisikan data penjualan supplemen kesehatan dengan jangka waktu penjualan mingguan. "
   ]
  },
  {
   "cell_type": "markdown",
   "id": "3a688776",
   "metadata": {},
   "source": [
    "### 3.2 MENAMPILKAN SUMMARY DATASET \n",
    "Untuk menampilkan Informasi *Summary Data* dapat menggunakan syntax df.info(), dimana akan menampilkan seluruh jumlah kolom, jenis tipe data dan menampilkan jika ada data yang kosong atau bersifat *null*. Setelah itu untuk menampilkan berapa banyak value yang unique dalam setiap kolom dapat menggunakan syntax df.nunique(). "
   ]
  },
  {
   "cell_type": "code",
   "execution_count": 2,
   "id": "d8c6a258",
   "metadata": {},
   "outputs": [
    {
     "name": "stdout",
     "output_type": "stream",
     "text": [
      "<class 'pandas.core.frame.DataFrame'>\n",
      "RangeIndex: 4384 entries, 0 to 4383\n",
      "Data columns (total 10 columns):\n",
      " #   Column          Non-Null Count  Dtype  \n",
      "---  ------          --------------  -----  \n",
      " 0   Date            4384 non-null   object \n",
      " 1   Product Name    4384 non-null   object \n",
      " 2   Category        4384 non-null   object \n",
      " 3   Units Sold      4384 non-null   int64  \n",
      " 4   Price           4384 non-null   float64\n",
      " 5   Revenue         4384 non-null   float64\n",
      " 6   Discount        4384 non-null   float64\n",
      " 7   Units Returned  4384 non-null   int64  \n",
      " 8   Location        4384 non-null   object \n",
      " 9   Platform        4384 non-null   object \n",
      "dtypes: float64(3), int64(2), object(5)\n",
      "memory usage: 342.6+ KB\n"
     ]
    },
    {
     "data": {
      "text/html": [
       "<div>\n",
       "<style scoped>\n",
       "    .dataframe tbody tr th:only-of-type {\n",
       "        vertical-align: middle;\n",
       "    }\n",
       "\n",
       "    .dataframe tbody tr th {\n",
       "        vertical-align: top;\n",
       "    }\n",
       "\n",
       "    .dataframe thead th {\n",
       "        text-align: right;\n",
       "    }\n",
       "</style>\n",
       "<table border=\"1\" class=\"dataframe\">\n",
       "  <thead>\n",
       "    <tr style=\"text-align: right;\">\n",
       "      <th></th>\n",
       "      <th>Units Sold</th>\n",
       "      <th>Price</th>\n",
       "      <th>Revenue</th>\n",
       "      <th>Discount</th>\n",
       "      <th>Units Returned</th>\n",
       "    </tr>\n",
       "  </thead>\n",
       "  <tbody>\n",
       "    <tr>\n",
       "      <th>count</th>\n",
       "      <td>4384.000000</td>\n",
       "      <td>4384.000000</td>\n",
       "      <td>4384.000000</td>\n",
       "      <td>4384.000000</td>\n",
       "      <td>4384.000000</td>\n",
       "    </tr>\n",
       "    <tr>\n",
       "      <th>mean</th>\n",
       "      <td>150.200274</td>\n",
       "      <td>34.781229</td>\n",
       "      <td>5226.569446</td>\n",
       "      <td>0.124398</td>\n",
       "      <td>1.531478</td>\n",
       "    </tr>\n",
       "    <tr>\n",
       "      <th>std</th>\n",
       "      <td>12.396099</td>\n",
       "      <td>14.198309</td>\n",
       "      <td>2192.491946</td>\n",
       "      <td>0.071792</td>\n",
       "      <td>1.258479</td>\n",
       "    </tr>\n",
       "    <tr>\n",
       "      <th>min</th>\n",
       "      <td>103.000000</td>\n",
       "      <td>10.000000</td>\n",
       "      <td>1284.000000</td>\n",
       "      <td>0.000000</td>\n",
       "      <td>0.000000</td>\n",
       "    </tr>\n",
       "    <tr>\n",
       "      <th>25%</th>\n",
       "      <td>142.000000</td>\n",
       "      <td>22.597500</td>\n",
       "      <td>3349.372500</td>\n",
       "      <td>0.060000</td>\n",
       "      <td>1.000000</td>\n",
       "    </tr>\n",
       "    <tr>\n",
       "      <th>50%</th>\n",
       "      <td>150.000000</td>\n",
       "      <td>34.720000</td>\n",
       "      <td>5173.140000</td>\n",
       "      <td>0.120000</td>\n",
       "      <td>1.000000</td>\n",
       "    </tr>\n",
       "    <tr>\n",
       "      <th>75%</th>\n",
       "      <td>158.000000</td>\n",
       "      <td>46.712500</td>\n",
       "      <td>7009.960000</td>\n",
       "      <td>0.190000</td>\n",
       "      <td>2.000000</td>\n",
       "    </tr>\n",
       "    <tr>\n",
       "      <th>max</th>\n",
       "      <td>194.000000</td>\n",
       "      <td>59.970000</td>\n",
       "      <td>10761.850000</td>\n",
       "      <td>0.250000</td>\n",
       "      <td>8.000000</td>\n",
       "    </tr>\n",
       "  </tbody>\n",
       "</table>\n",
       "</div>"
      ],
      "text/plain": [
       "        Units Sold        Price       Revenue     Discount  Units Returned\n",
       "count  4384.000000  4384.000000   4384.000000  4384.000000     4384.000000\n",
       "mean    150.200274    34.781229   5226.569446     0.124398        1.531478\n",
       "std      12.396099    14.198309   2192.491946     0.071792        1.258479\n",
       "min     103.000000    10.000000   1284.000000     0.000000        0.000000\n",
       "25%     142.000000    22.597500   3349.372500     0.060000        1.000000\n",
       "50%     150.000000    34.720000   5173.140000     0.120000        1.000000\n",
       "75%     158.000000    46.712500   7009.960000     0.190000        2.000000\n",
       "max     194.000000    59.970000  10761.850000     0.250000        8.000000"
      ]
     },
     "execution_count": 2,
     "metadata": {},
     "output_type": "execute_result"
    }
   ],
   "source": [
    "# Berfungsi untuk melihat summary data \n",
    "df.info()\n",
    "\n",
    "# Berfungsi untuk menampilkan value unique dalam kolom \n",
    "df.nunique()\n",
    "\n",
    "# Berfungsi untuk memberikan gambaran data yang memiliki kolom numerikal dalam nilai mean, min, max  \n",
    "df.describe()"
   ]
  },
  {
   "cell_type": "markdown",
   "id": "2af9ef5f",
   "metadata": {},
   "source": [
    "Berdasarkan hasil syntax pandas dapat diketahui baha terdarapat 10 kolom dan 4384 series/ baris yang ada dalam 1 data frame. Dapat diketahui mayoritas kolom sudah memiliki tipe data yang sesuai, Namun masih ada kolom yang belum sesuai dengan tipe datanya yaitu pada bagian kolom Date. Pada kolom date seharusnya menggunakan tipe data **datetime64** yang kemudian akan bisa diolah menggunakan pandas. Jika kolom date masih menggunakan tipe data object, maka pandas tidak akan bisa membaca value yang terdapat pada kolom tersebut."
   ]
  },
  {
   "cell_type": "markdown",
   "id": "c9e35777",
   "metadata": {},
   "source": [
    "### 3.3 MENAMPILKAN LIST NILAI UNIQUE YANG DIMILIKI KOLOM PRODUCT, CATEGORY, LOCATION DAN PLATFORM \n"
   ]
  },
  {
   "cell_type": "code",
   "execution_count": 3,
   "id": "8b373f5e",
   "metadata": {},
   "outputs": [
    {
     "name": "stdout",
     "output_type": "stream",
     "text": [
      "Product Name    : ['Whey Protein' 'Vitamin C' 'Fish Oil' 'Multivitamin' 'Pre-Workout' 'BCAA'\n",
      " 'Creatine' 'Zinc' 'Collagen Peptides' 'Magnesium' 'Ashwagandha'\n",
      " 'Melatonin' 'Biotin' 'Green Tea Extract' 'Iron Supplement'\n",
      " 'Electrolyte Powder']\n",
      "Category        : ['Protein' 'Vitamin' 'Omega' 'Performance' 'Amino Acid' 'Mineral' 'Herbal'\n",
      " 'Sleep Aid' 'Fat Burner' 'Hydration']\n",
      "Location        : ['Canada' 'UK' 'USA']\n",
      "Platform        : ['Walmart' 'Amazon' 'iHerb']\n"
     ]
    }
   ],
   "source": [
    "# Syntax untuk menampilkan isi value unique pada kolom product name, category, location, dan platform\n",
    "print(f\"Product Name    : {df['Product Name'].unique()}\")\n",
    "print(f\"Category        : {df['Category'].unique()}\")\n",
    "print(f\"Location        : {df['Location'].unique()}\")\n",
    "print(f\"Platform        : {df['Platform'].unique()}\")"
   ]
  },
  {
   "cell_type": "markdown",
   "id": "7709c8ce",
   "metadata": {},
   "source": [
    "Berdasarkan hasil syntax pandas dapat diketahui bahwa kolom Product Name memiliki 16 nilai unique, kemudian pada kolom Category memiliki 10 nilai unique, sedangkan kolom Location dan Platform memiliki masing masing 3 nilai unique."
   ]
  },
  {
   "cell_type": "markdown",
   "id": "db90a677",
   "metadata": {},
   "source": [
    "## 4. DATA CLEANING"
   ]
  },
  {
   "cell_type": "markdown",
   "id": "21f2d6a6",
   "metadata": {},
   "source": [
    "### 4.1 PENYESUAIAN TIPE DATA \n",
    "Berdasarkan syntax df.info() di atas dapat diketahui bahwa kolom Date masih menggunakan tipe data yang belum sesuai. Agar kolom Date bisa diolah menggunakan pandas maka tipe data Date perlu diganti sesuai dengan tipe data seharusnya. Pada kolom Date secara kaidah menggunakan tipe data **datetime64** dimana nantinya akan bisa dilakukan ekstrak analisis yang memisahkan antara tahun, bulan, maupun tanggal."
   ]
  },
  {
   "cell_type": "code",
   "execution_count": 4,
   "id": "a70d6b15",
   "metadata": {},
   "outputs": [
    {
     "name": "stdout",
     "output_type": "stream",
     "text": [
      "<class 'pandas.core.frame.DataFrame'>\n",
      "RangeIndex: 4384 entries, 0 to 4383\n",
      "Data columns (total 10 columns):\n",
      " #   Column          Non-Null Count  Dtype  \n",
      "---  ------          --------------  -----  \n",
      " 0   Date            4384 non-null   object \n",
      " 1   Product Name    4384 non-null   object \n",
      " 2   Category        4384 non-null   object \n",
      " 3   Units Sold      4384 non-null   int64  \n",
      " 4   Price           4384 non-null   float64\n",
      " 5   Revenue         4384 non-null   float64\n",
      " 6   Discount        4384 non-null   float64\n",
      " 7   Units Returned  4384 non-null   int64  \n",
      " 8   Location        4384 non-null   object \n",
      " 9   Platform        4384 non-null   object \n",
      "dtypes: float64(3), int64(2), object(5)\n",
      "memory usage: 342.6+ KB\n"
     ]
    }
   ],
   "source": [
    "# Menampilkan tipe data secara keseluruhan \n",
    "df.info()"
   ]
  },
  {
   "cell_type": "code",
   "execution_count": 5,
   "id": "26180514",
   "metadata": {},
   "outputs": [],
   "source": [
    "# Mengubah format object menjadi date time\n",
    "df['Date'] = pd.to_datetime(df['Date'])"
   ]
  },
  {
   "cell_type": "code",
   "execution_count": 6,
   "id": "1de24d30",
   "metadata": {},
   "outputs": [
    {
     "name": "stdout",
     "output_type": "stream",
     "text": [
      "<class 'pandas.core.frame.DataFrame'>\n",
      "RangeIndex: 4384 entries, 0 to 4383\n",
      "Data columns (total 10 columns):\n",
      " #   Column          Non-Null Count  Dtype         \n",
      "---  ------          --------------  -----         \n",
      " 0   Date            4384 non-null   datetime64[ns]\n",
      " 1   Product Name    4384 non-null   object        \n",
      " 2   Category        4384 non-null   object        \n",
      " 3   Units Sold      4384 non-null   int64         \n",
      " 4   Price           4384 non-null   float64       \n",
      " 5   Revenue         4384 non-null   float64       \n",
      " 6   Discount        4384 non-null   float64       \n",
      " 7   Units Returned  4384 non-null   int64         \n",
      " 8   Location        4384 non-null   object        \n",
      " 9   Platform        4384 non-null   object        \n",
      "dtypes: datetime64[ns](1), float64(3), int64(2), object(4)\n",
      "memory usage: 342.6+ KB\n"
     ]
    }
   ],
   "source": [
    "# Melakukan crosscek apakah data Date sudah berubah menjadi datetime64 \n",
    "df.info()"
   ]
  },
  {
   "cell_type": "markdown",
   "id": "641b65b0",
   "metadata": {},
   "source": [
    "Kemudian mengextract data Date untuk mengambil data bulan dan tahun menggunakan dt.year dan dt.month "
   ]
  },
  {
   "cell_type": "code",
   "execution_count": null,
   "id": "30936c1e",
   "metadata": {},
   "outputs": [
    {
     "data": {
      "text/html": [
       "<div>\n",
       "<style scoped>\n",
       "    .dataframe tbody tr th:only-of-type {\n",
       "        vertical-align: middle;\n",
       "    }\n",
       "\n",
       "    .dataframe tbody tr th {\n",
       "        vertical-align: top;\n",
       "    }\n",
       "\n",
       "    .dataframe thead th {\n",
       "        text-align: right;\n",
       "    }\n",
       "</style>\n",
       "<table border=\"1\" class=\"dataframe\">\n",
       "  <thead>\n",
       "    <tr style=\"text-align: right;\">\n",
       "      <th></th>\n",
       "      <th>Date</th>\n",
       "      <th>Product Name</th>\n",
       "      <th>Category</th>\n",
       "      <th>Units Sold</th>\n",
       "      <th>Price</th>\n",
       "      <th>Revenue</th>\n",
       "      <th>Discount</th>\n",
       "      <th>Units Returned</th>\n",
       "      <th>Location</th>\n",
       "      <th>Platform</th>\n",
       "      <th>Year</th>\n",
       "      <th>Month</th>\n",
       "    </tr>\n",
       "  </thead>\n",
       "  <tbody>\n",
       "    <tr>\n",
       "      <th>0</th>\n",
       "      <td>2020-01-06</td>\n",
       "      <td>Whey Protein</td>\n",
       "      <td>Protein</td>\n",
       "      <td>143</td>\n",
       "      <td>31.98</td>\n",
       "      <td>4573.14</td>\n",
       "      <td>0.03</td>\n",
       "      <td>2</td>\n",
       "      <td>Canada</td>\n",
       "      <td>Walmart</td>\n",
       "      <td>2020</td>\n",
       "      <td>1</td>\n",
       "    </tr>\n",
       "    <tr>\n",
       "      <th>1</th>\n",
       "      <td>2020-01-06</td>\n",
       "      <td>Vitamin C</td>\n",
       "      <td>Vitamin</td>\n",
       "      <td>139</td>\n",
       "      <td>42.51</td>\n",
       "      <td>5908.89</td>\n",
       "      <td>0.04</td>\n",
       "      <td>0</td>\n",
       "      <td>UK</td>\n",
       "      <td>Amazon</td>\n",
       "      <td>2020</td>\n",
       "      <td>1</td>\n",
       "    </tr>\n",
       "    <tr>\n",
       "      <th>2</th>\n",
       "      <td>2020-01-06</td>\n",
       "      <td>Fish Oil</td>\n",
       "      <td>Omega</td>\n",
       "      <td>161</td>\n",
       "      <td>12.91</td>\n",
       "      <td>2078.51</td>\n",
       "      <td>0.25</td>\n",
       "      <td>0</td>\n",
       "      <td>Canada</td>\n",
       "      <td>Amazon</td>\n",
       "      <td>2020</td>\n",
       "      <td>1</td>\n",
       "    </tr>\n",
       "    <tr>\n",
       "      <th>3</th>\n",
       "      <td>2020-01-06</td>\n",
       "      <td>Multivitamin</td>\n",
       "      <td>Vitamin</td>\n",
       "      <td>140</td>\n",
       "      <td>16.07</td>\n",
       "      <td>2249.80</td>\n",
       "      <td>0.08</td>\n",
       "      <td>0</td>\n",
       "      <td>Canada</td>\n",
       "      <td>Walmart</td>\n",
       "      <td>2020</td>\n",
       "      <td>1</td>\n",
       "    </tr>\n",
       "    <tr>\n",
       "      <th>4</th>\n",
       "      <td>2020-01-06</td>\n",
       "      <td>Pre-Workout</td>\n",
       "      <td>Performance</td>\n",
       "      <td>157</td>\n",
       "      <td>35.47</td>\n",
       "      <td>5568.79</td>\n",
       "      <td>0.25</td>\n",
       "      <td>3</td>\n",
       "      <td>Canada</td>\n",
       "      <td>iHerb</td>\n",
       "      <td>2020</td>\n",
       "      <td>1</td>\n",
       "    </tr>\n",
       "    <tr>\n",
       "      <th>5</th>\n",
       "      <td>2020-01-06</td>\n",
       "      <td>BCAA</td>\n",
       "      <td>Amino Acid</td>\n",
       "      <td>154</td>\n",
       "      <td>41.19</td>\n",
       "      <td>6343.26</td>\n",
       "      <td>0.13</td>\n",
       "      <td>1</td>\n",
       "      <td>UK</td>\n",
       "      <td>Walmart</td>\n",
       "      <td>2020</td>\n",
       "      <td>1</td>\n",
       "    </tr>\n",
       "    <tr>\n",
       "      <th>6</th>\n",
       "      <td>2020-01-06</td>\n",
       "      <td>Creatine</td>\n",
       "      <td>Performance</td>\n",
       "      <td>134</td>\n",
       "      <td>32.49</td>\n",
       "      <td>4353.66</td>\n",
       "      <td>0.05</td>\n",
       "      <td>1</td>\n",
       "      <td>UK</td>\n",
       "      <td>Walmart</td>\n",
       "      <td>2020</td>\n",
       "      <td>1</td>\n",
       "    </tr>\n",
       "    <tr>\n",
       "      <th>7</th>\n",
       "      <td>2020-01-06</td>\n",
       "      <td>Zinc</td>\n",
       "      <td>Mineral</td>\n",
       "      <td>147</td>\n",
       "      <td>46.68</td>\n",
       "      <td>6861.96</td>\n",
       "      <td>0.19</td>\n",
       "      <td>0</td>\n",
       "      <td>Canada</td>\n",
       "      <td>Amazon</td>\n",
       "      <td>2020</td>\n",
       "      <td>1</td>\n",
       "    </tr>\n",
       "    <tr>\n",
       "      <th>8</th>\n",
       "      <td>2020-01-06</td>\n",
       "      <td>Collagen Peptides</td>\n",
       "      <td>Protein</td>\n",
       "      <td>147</td>\n",
       "      <td>10.96</td>\n",
       "      <td>1611.12</td>\n",
       "      <td>0.06</td>\n",
       "      <td>2</td>\n",
       "      <td>USA</td>\n",
       "      <td>Amazon</td>\n",
       "      <td>2020</td>\n",
       "      <td>1</td>\n",
       "    </tr>\n",
       "    <tr>\n",
       "      <th>9</th>\n",
       "      <td>2020-01-06</td>\n",
       "      <td>Magnesium</td>\n",
       "      <td>Mineral</td>\n",
       "      <td>134</td>\n",
       "      <td>20.76</td>\n",
       "      <td>2781.84</td>\n",
       "      <td>0.00</td>\n",
       "      <td>0</td>\n",
       "      <td>Canada</td>\n",
       "      <td>Amazon</td>\n",
       "      <td>2020</td>\n",
       "      <td>1</td>\n",
       "    </tr>\n",
       "  </tbody>\n",
       "</table>\n",
       "</div>"
      ],
      "text/plain": [
       "        Date       Product Name     Category  Units Sold  Price  Revenue  \\\n",
       "0 2020-01-06       Whey Protein      Protein         143  31.98  4573.14   \n",
       "1 2020-01-06          Vitamin C      Vitamin         139  42.51  5908.89   \n",
       "2 2020-01-06           Fish Oil        Omega         161  12.91  2078.51   \n",
       "3 2020-01-06       Multivitamin      Vitamin         140  16.07  2249.80   \n",
       "4 2020-01-06        Pre-Workout  Performance         157  35.47  5568.79   \n",
       "5 2020-01-06               BCAA   Amino Acid         154  41.19  6343.26   \n",
       "6 2020-01-06           Creatine  Performance         134  32.49  4353.66   \n",
       "7 2020-01-06               Zinc      Mineral         147  46.68  6861.96   \n",
       "8 2020-01-06  Collagen Peptides      Protein         147  10.96  1611.12   \n",
       "9 2020-01-06          Magnesium      Mineral         134  20.76  2781.84   \n",
       "\n",
       "   Discount  Units Returned Location Platform  Year  Month  \n",
       "0      0.03               2   Canada  Walmart  2020      1  \n",
       "1      0.04               0       UK   Amazon  2020      1  \n",
       "2      0.25               0   Canada   Amazon  2020      1  \n",
       "3      0.08               0   Canada  Walmart  2020      1  \n",
       "4      0.25               3   Canada    iHerb  2020      1  \n",
       "5      0.13               1       UK  Walmart  2020      1  \n",
       "6      0.05               1       UK  Walmart  2020      1  \n",
       "7      0.19               0   Canada   Amazon  2020      1  \n",
       "8      0.06               2      USA   Amazon  2020      1  \n",
       "9      0.00               0   Canada   Amazon  2020      1  "
      ]
     },
     "execution_count": 23,
     "metadata": {},
     "output_type": "execute_result"
    }
   ],
   "source": [
    "# Mengambil data Dari Date untuk mempermudah analisis penjualan berdasarkan waktu \n",
    "df['Year'] = df['Date'].dt.year\n",
    "df['Month'] = df['Date'].dt.month\n",
    "\n",
    "# Menampilkan data yang telah diperbarui \n",
    "df.head(10)"
   ]
  },
  {
   "cell_type": "markdown",
   "id": "d87bdf58",
   "metadata": {},
   "source": [
    "Setelah berhasil mengambil data Year dan Month maka akan muncul kolom baru pada dataframe yang berisikan masing masing Year dan Month yang berasal dari kolom data Date "
   ]
  },
  {
   "cell_type": "markdown",
   "id": "4fd5d446",
   "metadata": {},
   "source": [
    "### 4.2 PENGECEKAN MISSING VALUES "
   ]
  },
  {
   "cell_type": "markdown",
   "id": "e11c1e0a",
   "metadata": {},
   "source": [
    "Pengecekan *Missing Value* perlu dilakukan untuk memastikan bahwa tidak ada data yang memiliki nilai null, karena jika didapati data yang null dalam suatu kolom maka dapat mempengaruhi hasil dari analisa yang akan dilakukan. Untuk melakukan pengecekan *Missing Value* bisa menggunakan df.isnull().sum() untuk melihat keseluruhan data yang sekiranya memiliki missing values atau bernilai null."
   ]
  },
  {
   "cell_type": "code",
   "execution_count": 7,
   "id": "5785d270",
   "metadata": {},
   "outputs": [
    {
     "data": {
      "text/plain": [
       "Date              0\n",
       "Product Name      0\n",
       "Category          0\n",
       "Units Sold        0\n",
       "Price             0\n",
       "Revenue           0\n",
       "Discount          0\n",
       "Units Returned    0\n",
       "Location          0\n",
       "Platform          0\n",
       "dtype: int64"
      ]
     },
     "execution_count": 7,
     "metadata": {},
     "output_type": "execute_result"
    }
   ],
   "source": [
    "# Untuk melihat secara keseluruhan apabila terdapat missing values \n",
    "df.isnull().sum()"
   ]
  },
  {
   "cell_type": "markdown",
   "id": "dced58aa",
   "metadata": {},
   "source": [
    "Berdasarkan hasil syntax pandas diatas dapat diketahui bahwa tidak ditemukan kolom yang memiliki *Missing Values*. Hal ini dapat dilihat pada hasil syntax bahwa seluruh kolom menampilkan angka 0 dimana dapat diartikan bahwa setiap kolom memiliki data yang unique dan tidak bersifat null."
   ]
  },
  {
   "cell_type": "markdown",
   "id": "a875504b",
   "metadata": {},
   "source": [
    "### 4.3 PENGECEKAN DATA DUPLICATE\n",
    "Pengecekan *Data Duplicate* perlu dilakukan untuk memastikan bahwa data yang dimiliki tidak memiliki nilai yang sama atau duplikat, jika ditemukan data yang memiliki duplikat akan mempengaruhi hasil analisa. Data yang memiliki duplikat juga akan mempengaruhi *Consistency Data*. *Data Duplicate* bisa terjadi karena beberapa hal, misalnya error pada saat melakukan *Data Entry*, gangguan sistem atau pada saat proses integrasi data."
   ]
  },
  {
   "cell_type": "code",
   "execution_count": 8,
   "id": "3e608289",
   "metadata": {},
   "outputs": [
    {
     "data": {
      "text/plain": [
       "False    4384\n",
       "Name: count, dtype: int64"
      ]
     },
     "execution_count": 8,
     "metadata": {},
     "output_type": "execute_result"
    }
   ],
   "source": [
    "# Untuk melakukan pengecekan data duplicate \n",
    "df.duplicated().value_counts()"
   ]
  },
  {
   "cell_type": "markdown",
   "id": "75fde3db",
   "metadata": {},
   "source": [
    "Berdasarkan hasil syntax pandas dapat diketahui bahwa nilai False pada duplicate sebanyak 4384, dapat diartikan bahwa tidak ada data yang memiliki duplikat. Hal ini sesuai jika mengacu pada df.info() bahwa total data yang dimiliki sebanyak 4384 dan masing masing data bersifat unique. Jika ditemukan data yang bersifat duplikat hasil syntax akan menampilkan *True* "
   ]
  },
  {
   "cell_type": "markdown",
   "id": "99e91251",
   "metadata": {},
   "source": [
    "### 4.4 PENYESUAIAN DATA \n",
    "\n",
    "Pada dataset yang digunakan ada data yang belum genap sebanyak 12 bulan yaitu pada data tahun 2025, data tahun 2025 masih berakhir pada bulan maret. Hal ini akan menyebabkan ketimpangan data. Maka dari itu data yang akan dianalisa akan berlangsung dari tahun 2020 - 2024 agar memudahkan untuk penyampaian data dan tidak menciptakan bias."
   ]
  },
  {
   "cell_type": "code",
   "execution_count": null,
   "id": "420001d0",
   "metadata": {},
   "outputs": [
    {
     "data": {
      "text/html": [
       "<div>\n",
       "<style scoped>\n",
       "    .dataframe tbody tr th:only-of-type {\n",
       "        vertical-align: middle;\n",
       "    }\n",
       "\n",
       "    .dataframe tbody tr th {\n",
       "        vertical-align: top;\n",
       "    }\n",
       "\n",
       "    .dataframe thead th {\n",
       "        text-align: right;\n",
       "    }\n",
       "</style>\n",
       "<table border=\"1\" class=\"dataframe\">\n",
       "  <thead>\n",
       "    <tr style=\"text-align: right;\">\n",
       "      <th></th>\n",
       "      <th>Date</th>\n",
       "      <th>Product Name</th>\n",
       "      <th>Category</th>\n",
       "      <th>Units Sold</th>\n",
       "      <th>Price</th>\n",
       "      <th>Revenue</th>\n",
       "      <th>Discount</th>\n",
       "      <th>Units Returned</th>\n",
       "      <th>Location</th>\n",
       "      <th>Platform</th>\n",
       "      <th>Year</th>\n",
       "      <th>Month</th>\n",
       "    </tr>\n",
       "  </thead>\n",
       "  <tbody>\n",
       "    <tr>\n",
       "      <th>4374</th>\n",
       "      <td>2025-03-31</td>\n",
       "      <td>Creatine</td>\n",
       "      <td>Performance</td>\n",
       "      <td>174</td>\n",
       "      <td>35.63</td>\n",
       "      <td>6199.62</td>\n",
       "      <td>0.03</td>\n",
       "      <td>0</td>\n",
       "      <td>Canada</td>\n",
       "      <td>Amazon</td>\n",
       "      <td>2025</td>\n",
       "      <td>3</td>\n",
       "    </tr>\n",
       "    <tr>\n",
       "      <th>4375</th>\n",
       "      <td>2025-03-31</td>\n",
       "      <td>Zinc</td>\n",
       "      <td>Mineral</td>\n",
       "      <td>147</td>\n",
       "      <td>23.47</td>\n",
       "      <td>3450.09</td>\n",
       "      <td>0.14</td>\n",
       "      <td>1</td>\n",
       "      <td>Canada</td>\n",
       "      <td>Walmart</td>\n",
       "      <td>2025</td>\n",
       "      <td>3</td>\n",
       "    </tr>\n",
       "    <tr>\n",
       "      <th>4376</th>\n",
       "      <td>2025-03-31</td>\n",
       "      <td>Collagen Peptides</td>\n",
       "      <td>Protein</td>\n",
       "      <td>146</td>\n",
       "      <td>52.79</td>\n",
       "      <td>7707.34</td>\n",
       "      <td>0.13</td>\n",
       "      <td>1</td>\n",
       "      <td>USA</td>\n",
       "      <td>Amazon</td>\n",
       "      <td>2025</td>\n",
       "      <td>3</td>\n",
       "    </tr>\n",
       "    <tr>\n",
       "      <th>4377</th>\n",
       "      <td>2025-03-31</td>\n",
       "      <td>Magnesium</td>\n",
       "      <td>Mineral</td>\n",
       "      <td>138</td>\n",
       "      <td>28.45</td>\n",
       "      <td>3926.10</td>\n",
       "      <td>0.25</td>\n",
       "      <td>1</td>\n",
       "      <td>UK</td>\n",
       "      <td>Walmart</td>\n",
       "      <td>2025</td>\n",
       "      <td>3</td>\n",
       "    </tr>\n",
       "    <tr>\n",
       "      <th>4378</th>\n",
       "      <td>2025-03-31</td>\n",
       "      <td>Ashwagandha</td>\n",
       "      <td>Herbal</td>\n",
       "      <td>145</td>\n",
       "      <td>58.08</td>\n",
       "      <td>8421.60</td>\n",
       "      <td>0.24</td>\n",
       "      <td>2</td>\n",
       "      <td>Canada</td>\n",
       "      <td>Amazon</td>\n",
       "      <td>2025</td>\n",
       "      <td>3</td>\n",
       "    </tr>\n",
       "    <tr>\n",
       "      <th>4379</th>\n",
       "      <td>2025-03-31</td>\n",
       "      <td>Melatonin</td>\n",
       "      <td>Sleep Aid</td>\n",
       "      <td>160</td>\n",
       "      <td>47.79</td>\n",
       "      <td>7646.40</td>\n",
       "      <td>0.21</td>\n",
       "      <td>1</td>\n",
       "      <td>USA</td>\n",
       "      <td>iHerb</td>\n",
       "      <td>2025</td>\n",
       "      <td>3</td>\n",
       "    </tr>\n",
       "    <tr>\n",
       "      <th>4380</th>\n",
       "      <td>2025-03-31</td>\n",
       "      <td>Biotin</td>\n",
       "      <td>Vitamin</td>\n",
       "      <td>154</td>\n",
       "      <td>38.12</td>\n",
       "      <td>5870.48</td>\n",
       "      <td>0.22</td>\n",
       "      <td>1</td>\n",
       "      <td>UK</td>\n",
       "      <td>Walmart</td>\n",
       "      <td>2025</td>\n",
       "      <td>3</td>\n",
       "    </tr>\n",
       "    <tr>\n",
       "      <th>4381</th>\n",
       "      <td>2025-03-31</td>\n",
       "      <td>Green Tea Extract</td>\n",
       "      <td>Fat Burner</td>\n",
       "      <td>139</td>\n",
       "      <td>20.40</td>\n",
       "      <td>2835.60</td>\n",
       "      <td>0.12</td>\n",
       "      <td>3</td>\n",
       "      <td>USA</td>\n",
       "      <td>iHerb</td>\n",
       "      <td>2025</td>\n",
       "      <td>3</td>\n",
       "    </tr>\n",
       "    <tr>\n",
       "      <th>4382</th>\n",
       "      <td>2025-03-31</td>\n",
       "      <td>Iron Supplement</td>\n",
       "      <td>Mineral</td>\n",
       "      <td>154</td>\n",
       "      <td>18.31</td>\n",
       "      <td>2819.74</td>\n",
       "      <td>0.23</td>\n",
       "      <td>2</td>\n",
       "      <td>Canada</td>\n",
       "      <td>Amazon</td>\n",
       "      <td>2025</td>\n",
       "      <td>3</td>\n",
       "    </tr>\n",
       "    <tr>\n",
       "      <th>4383</th>\n",
       "      <td>2025-03-31</td>\n",
       "      <td>Electrolyte Powder</td>\n",
       "      <td>Hydration</td>\n",
       "      <td>178</td>\n",
       "      <td>39.12</td>\n",
       "      <td>6963.36</td>\n",
       "      <td>0.23</td>\n",
       "      <td>0</td>\n",
       "      <td>UK</td>\n",
       "      <td>iHerb</td>\n",
       "      <td>2025</td>\n",
       "      <td>3</td>\n",
       "    </tr>\n",
       "  </tbody>\n",
       "</table>\n",
       "</div>"
      ],
      "text/plain": [
       "           Date        Product Name     Category  Units Sold  Price  Revenue  \\\n",
       "4374 2025-03-31            Creatine  Performance         174  35.63  6199.62   \n",
       "4375 2025-03-31                Zinc      Mineral         147  23.47  3450.09   \n",
       "4376 2025-03-31   Collagen Peptides      Protein         146  52.79  7707.34   \n",
       "4377 2025-03-31           Magnesium      Mineral         138  28.45  3926.10   \n",
       "4378 2025-03-31         Ashwagandha       Herbal         145  58.08  8421.60   \n",
       "4379 2025-03-31           Melatonin    Sleep Aid         160  47.79  7646.40   \n",
       "4380 2025-03-31              Biotin      Vitamin         154  38.12  5870.48   \n",
       "4381 2025-03-31   Green Tea Extract   Fat Burner         139  20.40  2835.60   \n",
       "4382 2025-03-31     Iron Supplement      Mineral         154  18.31  2819.74   \n",
       "4383 2025-03-31  Electrolyte Powder    Hydration         178  39.12  6963.36   \n",
       "\n",
       "      Discount  Units Returned Location Platform  Year  Month  \n",
       "4374      0.03               0   Canada   Amazon  2025      3  \n",
       "4375      0.14               1   Canada  Walmart  2025      3  \n",
       "4376      0.13               1      USA   Amazon  2025      3  \n",
       "4377      0.25               1       UK  Walmart  2025      3  \n",
       "4378      0.24               2   Canada   Amazon  2025      3  \n",
       "4379      0.21               1      USA    iHerb  2025      3  \n",
       "4380      0.22               1       UK  Walmart  2025      3  \n",
       "4381      0.12               3      USA    iHerb  2025      3  \n",
       "4382      0.23               2   Canada   Amazon  2025      3  \n",
       "4383      0.23               0       UK    iHerb  2025      3  "
      ]
     },
     "execution_count": 83,
     "metadata": {},
     "output_type": "execute_result"
    }
   ],
   "source": [
    "# Untuk mengecek data terakhir dalam dataset \n",
    "df.tail(10)"
   ]
  },
  {
   "cell_type": "code",
   "execution_count": null,
   "id": "525666b9",
   "metadata": {},
   "outputs": [],
   "source": [
    "# Menyalin data agar tetap menjaga data yang asli dan untuk berjaga jaga jika suatu saat data olahan rusak\n",
    "new_df = df.copy()\n",
    "\n",
    "# Menggunakan query untuk memfilter data agar tidak menggunakan data yang berasal dari tahun 2025 \n",
    "new_df_filtered = new_df.query(\"Year != 2025\")"
   ]
  },
  {
   "cell_type": "code",
   "execution_count": null,
   "id": "b05634d4",
   "metadata": {},
   "outputs": [
    {
     "data": {
      "text/html": [
       "<div>\n",
       "<style scoped>\n",
       "    .dataframe tbody tr th:only-of-type {\n",
       "        vertical-align: middle;\n",
       "    }\n",
       "\n",
       "    .dataframe tbody tr th {\n",
       "        vertical-align: top;\n",
       "    }\n",
       "\n",
       "    .dataframe thead th {\n",
       "        text-align: right;\n",
       "    }\n",
       "</style>\n",
       "<table border=\"1\" class=\"dataframe\">\n",
       "  <thead>\n",
       "    <tr style=\"text-align: right;\">\n",
       "      <th></th>\n",
       "      <th>Date</th>\n",
       "      <th>Product Name</th>\n",
       "      <th>Category</th>\n",
       "      <th>Units Sold</th>\n",
       "      <th>Price</th>\n",
       "      <th>Revenue</th>\n",
       "      <th>Discount</th>\n",
       "      <th>Units Returned</th>\n",
       "      <th>Location</th>\n",
       "      <th>Platform</th>\n",
       "      <th>Year</th>\n",
       "      <th>Month</th>\n",
       "    </tr>\n",
       "  </thead>\n",
       "  <tbody>\n",
       "    <tr>\n",
       "      <th>4171</th>\n",
       "      <td>2024-12-30</td>\n",
       "      <td>Melatonin</td>\n",
       "      <td>Sleep Aid</td>\n",
       "      <td>156</td>\n",
       "      <td>27.81</td>\n",
       "      <td>4338.36</td>\n",
       "      <td>0.07</td>\n",
       "      <td>2</td>\n",
       "      <td>Canada</td>\n",
       "      <td>iHerb</td>\n",
       "      <td>2024</td>\n",
       "      <td>12</td>\n",
       "    </tr>\n",
       "    <tr>\n",
       "      <th>4172</th>\n",
       "      <td>2024-12-30</td>\n",
       "      <td>Biotin</td>\n",
       "      <td>Vitamin</td>\n",
       "      <td>144</td>\n",
       "      <td>20.37</td>\n",
       "      <td>2933.28</td>\n",
       "      <td>0.10</td>\n",
       "      <td>0</td>\n",
       "      <td>USA</td>\n",
       "      <td>iHerb</td>\n",
       "      <td>2024</td>\n",
       "      <td>12</td>\n",
       "    </tr>\n",
       "    <tr>\n",
       "      <th>4173</th>\n",
       "      <td>2024-12-30</td>\n",
       "      <td>Green Tea Extract</td>\n",
       "      <td>Fat Burner</td>\n",
       "      <td>183</td>\n",
       "      <td>55.67</td>\n",
       "      <td>10187.61</td>\n",
       "      <td>0.11</td>\n",
       "      <td>1</td>\n",
       "      <td>Canada</td>\n",
       "      <td>Walmart</td>\n",
       "      <td>2024</td>\n",
       "      <td>12</td>\n",
       "    </tr>\n",
       "    <tr>\n",
       "      <th>4174</th>\n",
       "      <td>2024-12-30</td>\n",
       "      <td>Iron Supplement</td>\n",
       "      <td>Mineral</td>\n",
       "      <td>140</td>\n",
       "      <td>44.28</td>\n",
       "      <td>6199.20</td>\n",
       "      <td>0.12</td>\n",
       "      <td>0</td>\n",
       "      <td>USA</td>\n",
       "      <td>iHerb</td>\n",
       "      <td>2024</td>\n",
       "      <td>12</td>\n",
       "    </tr>\n",
       "    <tr>\n",
       "      <th>4175</th>\n",
       "      <td>2024-12-30</td>\n",
       "      <td>Electrolyte Powder</td>\n",
       "      <td>Hydration</td>\n",
       "      <td>147</td>\n",
       "      <td>32.51</td>\n",
       "      <td>4778.97</td>\n",
       "      <td>0.08</td>\n",
       "      <td>0</td>\n",
       "      <td>USA</td>\n",
       "      <td>Amazon</td>\n",
       "      <td>2024</td>\n",
       "      <td>12</td>\n",
       "    </tr>\n",
       "  </tbody>\n",
       "</table>\n",
       "</div>"
      ],
      "text/plain": [
       "           Date        Product Name    Category  Units Sold  Price   Revenue  \\\n",
       "4171 2024-12-30           Melatonin   Sleep Aid         156  27.81   4338.36   \n",
       "4172 2024-12-30              Biotin     Vitamin         144  20.37   2933.28   \n",
       "4173 2024-12-30   Green Tea Extract  Fat Burner         183  55.67  10187.61   \n",
       "4174 2024-12-30     Iron Supplement     Mineral         140  44.28   6199.20   \n",
       "4175 2024-12-30  Electrolyte Powder   Hydration         147  32.51   4778.97   \n",
       "\n",
       "      Discount  Units Returned Location Platform  Year  Month  \n",
       "4171      0.07               2   Canada    iHerb  2024     12  \n",
       "4172      0.10               0      USA    iHerb  2024     12  \n",
       "4173      0.11               1   Canada  Walmart  2024     12  \n",
       "4174      0.12               0      USA    iHerb  2024     12  \n",
       "4175      0.08               0      USA   Amazon  2024     12  "
      ]
     },
     "execution_count": 86,
     "metadata": {},
     "output_type": "execute_result"
    }
   ],
   "source": [
    "# Mengecek hasil dari filtrasi data \n",
    "new_df_filtered.tail()"
   ]
  },
  {
   "cell_type": "markdown",
   "id": "76fe4180",
   "metadata": {},
   "source": [
    "Setelah dataframe dilakukan filter maka hasil akhir dari dataframe akan menunjukkan bahwa penggunaan data akan berlangsung dari 2020 -2024"
   ]
  },
  {
   "cell_type": "code",
   "execution_count": null,
   "id": "6a7644f9",
   "metadata": {},
   "outputs": [
    {
     "name": "stdout",
     "output_type": "stream",
     "text": [
      "<class 'pandas.core.frame.DataFrame'>\n",
      "Index: 4176 entries, 0 to 4175\n",
      "Data columns (total 12 columns):\n",
      " #   Column          Non-Null Count  Dtype         \n",
      "---  ------          --------------  -----         \n",
      " 0   date            4176 non-null   datetime64[ns]\n",
      " 1   product_name    4176 non-null   object        \n",
      " 2   category        4176 non-null   object        \n",
      " 3   units_sold      4176 non-null   int64         \n",
      " 4   price           4176 non-null   float64       \n",
      " 5   revenue         4176 non-null   float64       \n",
      " 6   discount        4176 non-null   float64       \n",
      " 7   units_returned  4176 non-null   int64         \n",
      " 8   location        4176 non-null   object        \n",
      " 9   platform        4176 non-null   object        \n",
      " 10  year            4176 non-null   int32         \n",
      " 11  month           4176 non-null   int32         \n",
      "dtypes: datetime64[ns](1), float64(3), int32(2), int64(2), object(4)\n",
      "memory usage: 391.5+ KB\n"
     ]
    }
   ],
   "source": [
    "# Mengubah nama column agar memiliki huruf yang sama rata dan mengubah spasi menjadi menjadi '_'\n",
    "new_df_filtered.columns = new_df_filtered.columns.str.strip().str.lower().str.replace(' ', '_')\n",
    "new_df_filtered.info()"
   ]
  },
  {
   "cell_type": "markdown",
   "id": "6446ea80",
   "metadata": {},
   "source": [
    "## 5. EXPLORATION AND ANALYSIS"
   ]
  },
  {
   "cell_type": "markdown",
   "id": "7711ed17",
   "metadata": {},
   "source": [
    "### 5.1 DATA ANALYSIS \n",
    "Data analysis yang akan dilakukan dengan menghitung rata-rata, median, standar deviasi, skewness, dan kurtosis dari kolom Units Sold, Price, Discount, dan Units Returned."
   ]
  },
  {
   "cell_type": "code",
   "execution_count": 221,
   "id": "4c61ef8a",
   "metadata": {},
   "outputs": [],
   "source": [
    "# Mengimport package yang akan digunakan \n",
    "\n",
    "# Import matplotlib digunakan untuk membuat grafik dasar \n",
    "import matplotlib.pyplot as plt\n",
    "\n",
    "# Import seaborn digunakan untuk membantu membuat pola dan plot untuk visualisasi data \n",
    "import seaborn as sns\n",
    "\n",
    "# Import scipy digunakan untuk analisis data lebih lanjut \n",
    "import scipy.stats as stats\n",
    "from scipy.stats import skew, kurtosis"
   ]
  },
  {
   "cell_type": "code",
   "execution_count": 146,
   "id": "e6ad7cdd",
   "metadata": {},
   "outputs": [
    {
     "name": "stdout",
     "output_type": "stream",
     "text": [
      "\n",
      "Perhitungan untuk kolom : units_sold\n",
      "Nilai Mean              : 150.21\n",
      "Nilai Median            : 150.00\n",
      "Nilai Modus             : 147\n",
      "Nilai Standar Deviasi   : 12.37\n",
      "Nilai Skewness          : 0.08\n",
      "Nilai Kurtosis          : -0.01\n",
      "\n",
      "Perhitungan untuk kolom : price\n",
      "Nilai Mean              : 34.88\n",
      "Nilai Median            : 34.80\n",
      "Nilai Modus             : 31.37\n",
      "Nilai Standar Deviasi   : 14.19\n",
      "Nilai Skewness          : 0.01\n",
      "Nilai Kurtosis          : -1.16\n"
     ]
    }
   ],
   "source": [
    "# Measurement of Central Tendency Units Sold dan Price\n",
    "for col in ['units_sold', 'price']:\n",
    "    print(f'\\nPerhitungan untuk kolom : {col}')\n",
    "    print(f'Nilai Mean              : {new_df_filtered[col].mean():,.2f}')\n",
    "    print(f'Nilai Median            : {new_df_filtered[col].median():,.2f}')\n",
    "    print(f'Nilai Modus             : {new_df_filtered[col].mode().values[0]}')\n",
    "    print(f'Nilai Standar Deviasi   : {new_df_filtered[col].std():,.2f}')\n",
    "    print(f'Nilai Skewness          : {new_df_filtered[col].skew():,.2f}')\n",
    "    print(f'Nilai Kurtosis          : {new_df_filtered[col].kurtosis():,.2f}')"
   ]
  },
  {
   "cell_type": "markdown",
   "id": "870fcdaa",
   "metadata": {},
   "source": [
    "Berdasarkan hasil syntax pandas diatas dapat diketahui bahwa nilai Skewness dan Kurtosis pada kolom **unit_sold** memiliki nilai sebesar 0.08 dan -0.01. Nilai Skewness sangat mendekati angka 0 yang dapat diartikan distribusi data hampir simetris sempurna, kemudian untuk nilai Kurtosis mendekati angka 0 dimana dapat diartikan distribusi data normal (Mesokurtic).\n",
    "\n",
    "Berdasarkan hasil syntax pandas diatas dapat diketahui bahwa nilai Skewness dan Kurtosis pada kolom **price** memiliki nilai sebesar 0.01 dan -1.16. Nilai Skewness sangat mendekati angka 0 yang dapat diartikan distribusi data hampir simetris sempurna, kemudian untuk nilai Kurtosis sebesar -1.16 yang berarti distribusi data lebih datar tidak terlalu lancip keatas (platykurtik)."
   ]
  },
  {
   "cell_type": "code",
   "execution_count": 147,
   "id": "8216e8d8",
   "metadata": {},
   "outputs": [
    {
     "name": "stdout",
     "output_type": "stream",
     "text": [
      "\n",
      "Perhitungan untuk kolom : discount\n",
      "Nilai Mean              : 0.12\n",
      "Nilai Median            : 0.12\n",
      "Nilai Modus             : 0.1\n",
      "Nilai Standar Deviasi   : 0.07\n",
      "Nilai Skewness          : 0.02\n",
      "Nilai Kurtosis          : -1.18\n",
      "\n",
      "Perhitungan untuk kolom : units_returned\n",
      "Nilai Mean              : 1.53\n",
      "Nilai Median            : 1.00\n",
      "Nilai Modus             : 1\n",
      "Nilai Standar Deviasi   : 1.26\n",
      "Nilai Skewness          : 0.85\n",
      "Nilai Kurtosis          : 0.76\n"
     ]
    }
   ],
   "source": [
    "# Measurement of Central Tendency Discount dan Units Returned\n",
    "for col in ['discount', 'units_returned']:\n",
    "    print(f'\\nPerhitungan untuk kolom : {col}')\n",
    "    print(f'Nilai Mean              : {new_df_filtered[col].mean():,.2f}')\n",
    "    print(f'Nilai Median            : {new_df_filtered[col].median():,.2f}')\n",
    "    print(f'Nilai Modus             : {new_df_filtered[col].mode().values[0]}')\n",
    "    print(f'Nilai Standar Deviasi   : {new_df_filtered[col].std():,.2f}')\n",
    "    print(f'Nilai Skewness          : {new_df_filtered[col].skew():,.2f}')\n",
    "    print(f'Nilai Kurtosis          : {new_df_filtered[col].kurtosis():,.2f}')"
   ]
  },
  {
   "cell_type": "markdown",
   "id": "685dbb73",
   "metadata": {},
   "source": [
    "Berdasarkan hasil syntax pandas diatas dapat diketahui bahwa nilai Skewness dan Kurtosis pada kolom **discount** memiliki nilai sebesar 0.02 dan -1.18. Nilai Skewness sangat mendekati angka 0 yang dapat diartikan distribusi data hampir simetris sempurna, kemudian untuk nilai Kurtosis sebesar -1.18 yang berarti distribusi data lebih datar tidak terlalu lancip keatas (platykurtik).\n",
    "\n",
    "Berdasarkan hasil syntax pandas diatas dapat diketahui bahwa nilai Skewness dan Kurtosis pada kolom **units_returned** memiliki nilai sebesar 0.85 dan 0.76. Nilai Skewness diantara angka 0.5 dan 1 dapat diartikan bahwa distribusi data moderately skewed. Sedangkan Nilai Kurtosis melebihi angka 0 dapat diartikan data memiliki puncak yang lebih tinggi daripada distribusi normal, yang berarti ada beberapa outlier/ extreme values (leptokurtic)."
   ]
  },
  {
   "cell_type": "markdown",
   "id": "91f5c64c",
   "metadata": {},
   "source": [
    "### 5.2 KATEGORI PRODUK SUPLEMEN KESEHATAN APA YANG MEMILIKI TINGKAT PENJUALAN PALING BAIK  \n",
    "\n",
    "Terdapat berbagai macam kategori produk supplemen kesehatan yang dijual di platform Walmart, Amazon, dan iHerb. Penting untuk mengetahui kategori produk mana yang memiliki tingkat penjualan paling baik diantaranya untuk mendapatkan total revenue yang maksimal. Perhitungan dapat dilakukan dengan menghitung jumlah penjualan tiap produk berdasarkan kategori.  "
   ]
  },
  {
   "cell_type": "code",
   "execution_count": 330,
   "id": "9bcc1fc7",
   "metadata": {},
   "outputs": [
    {
     "name": "stdout",
     "output_type": "stream",
     "text": [
      "      category  units_sold\n",
      "4      Mineral      117698\n",
      "9      Vitamin      117684\n",
      "6  Performance       78616\n",
      "7      Protein       78211\n",
      "2       Herbal       39466\n",
      "5        Omega       39410\n",
      "8    Sleep Aid       39204\n",
      "3    Hydration       39108\n",
      "0   Amino Acid       39065\n",
      "1   Fat Burner       38808\n"
     ]
    }
   ],
   "source": [
    "# 1. Menghitung total units_sold berdasarkan kategori\n",
    "category_sales = new_df_filtered.groupby(['category'])['units_sold'].sum().reset_index().sort_values(by= 'units_sold', ascending=False)\n",
    "\n",
    "# 2. Melihat hasil\n",
    "print(category_sales)"
   ]
  },
  {
   "cell_type": "code",
   "execution_count": null,
   "id": "24639f73",
   "metadata": {},
   "outputs": [
    {
     "data": {
      "image/png": "[encoded data removed]",
      "text/plain": [
       "<Figure size 800x600 with 1 Axes>"
      ]
     },
     "metadata": {},
     "output_type": "display_data"
    }
   ],
   "source": [
    "# Pembuatan grafik pie chart untuk menampilkan category yang paling laris berdasarkan units sold\n",
    "plt.figure(figsize=(8, 6)) # Menentukan ukuran area gambar 8 x 6 inci\n",
    "plt.pie(category_sales['units_sold'], # Menampilkan nama kategori di setiap slice.\n",
    "        labels=category_sales['category'],\n",
    "        autopct='%1.1f%%', # Menampilkan persentase\n",
    "        startangle=140)\n",
    "plt.title('Total Penjualan Produk Terjual Berdasarkan Kategori')\n",
    "plt.axis('equal')  # Agar bentuk pie tidak lonjong\n",
    "plt.tight_layout()\n",
    "plt.show()"
   ]
  },
  {
   "cell_type": "markdown",
   "id": "ecf71e6a",
   "metadata": {},
   "source": [
    "Berdasarkan grafik piechart diatas dapat diinterpretasikan bahwa produk Mineral dan Vitamin merupakan produk yang paling banyak dibeli oleh customer dengan penjualan kategori produk Mineral sebanyak 117698 unit terjual dan kategori produk Vitamin sebanyak 117684 unit terjual. Produk yang memiliki penjualan paling sedikit terdapat pada kategori produk Amino Acid sebanyak 39065 unit terjual dan kategori produk Fat Burner sebanyak 38808 unit terjual. Jika ingin memaksimalkan penjualan berdasarkan analisa data dapat memaksimalkan pada kategori produk Mineral dan Vitamin."
   ]
  },
  {
   "cell_type": "markdown",
   "id": "f1168326",
   "metadata": {},
   "source": [
    "### 5.3 BAGAIMANA TREN PENJUALAN PRODUK ANTAR PLATFORM SETIAP TAHUNNYA  \n",
    "\n",
    "Tren penjualan merupakan salah satu cara untuk mengetahui bagaimana performa penjualan produk dari tahun ke tahun, hal ini dapat menunjang pengambilan keputusan yang sesuai untuk memaksimalkan penjualan pada tahun berikutnya. Perhitungan dapat dilakukan dengan menjumlahkan total units sold setiap platform berdasarkan tahun."
   ]
  },
  {
   "cell_type": "code",
   "execution_count": null,
   "id": "cc1dbd32",
   "metadata": {},
   "outputs": [
    {
     "name": "stdout",
     "output_type": "stream",
     "text": [
      "   platform  year  units_sold\n",
      "0    Amazon  2020       45999\n",
      "5   Walmart  2020       32785\n",
      "10    iHerb  2020       45873\n",
      "6   Walmart  2021       43505\n",
      "11    iHerb  2021       43535\n",
      "1    Amazon  2021       37661\n",
      "7   Walmart  2022       45414\n",
      "2    Amazon  2022       40391\n",
      "12    iHerb  2022       39362\n",
      "3    Amazon  2023       43715\n",
      "13    iHerb  2023       39923\n",
      "8   Walmart  2023       41400\n",
      "4    Amazon  2024       42543\n",
      "9   Walmart  2024       39454\n",
      "14    iHerb  2024       45710\n"
     ]
    }
   ],
   "source": [
    "# Menghitung total units sold tiap platform berdasarkan tahun \n",
    "sum_units = new_df_filtered.groupby(['platform','year'])['units_sold'].sum().reset_index().sort_values(by= 'year', ascending=True)\n",
    "print(sum_units)"
   ]
  },
  {
   "cell_type": "code",
   "execution_count": 331,
   "id": "8eb78315",
   "metadata": {},
   "outputs": [
    {
     "data": {
      "image/png": "[encoded data removed]",
      "text/plain": [
       "<Figure size 1000x600 with 1 Axes>"
      ]
     },
     "metadata": {},
     "output_type": "display_data"
    }
   ],
   "source": [
    "# # Pembuatan plot visualisasi menggunakan lineplot karena ingin melihat trend performa penjualan per platform setiap tahun \n",
    "plt.figure(figsize=(10,6))\n",
    "sns.lineplot(data=sum_units, x='year', y='units_sold', hue='platform', marker='o')\n",
    "\n",
    "plt.title('Total Penjualan Produk Setiap Tahun Berdasarkan Platform') # Pembuatan judul grafik\n",
    "plt.xlabel('Year') # Penamaan X-Axis\n",
    "plt.ylabel('Units Sold') # Penamaan Y-Axis\n",
    "plt.grid(True) # Untuk memunculkan grid \n",
    "plt.xticks(sum_units[\"year\"], sum_units[\"year\"].astype(int)) # Untuk membuat nilai tahun pada kolom axis x menjadi angka\n",
    "plt.show()"
   ]
  },
  {
   "cell_type": "markdown",
   "id": "6861f456",
   "metadata": {},
   "source": [
    "Berdasarkan grafik lineplot diatas dapat diketahui bahwa setiap tahun platform mengalami fluktuasi dari penjualan tiap tahunnya. Platform **Amazon** mengalami penjualan puncak **pada tahun 2020** dengan total penjualan 42543 unit terjual, namun sempat mengalami penurunan penjualan pada tahun 2021 tetapi pada tahun 2022 - 2024 mulai mengalami peningkatan meskipun tidak terlalu signifikan. Platform **Walmart** mengalami peningkatan yang cukup signifkan dari tahun 2020 hingga mendapatkan penjualan puncak **pada tahun 2022** dengan total penjualan 45414 unit terjual, namun sempat mengalami penurunan performa penjualan pada tahun 2023 sampai dengan 2024. Platform iHerb merupakan platform yang memiliki performa paling bagus diantara 2 platform yang lain, penjualan puncak pada platform **iHerb** terdapat **pada tahun 2024** dengan total penjualan 45873 unit terjual. Penjualan pada platform iHerb tidak terlalu mengalami penurunan yang signifikan dibandingkan kompetitor lainnya. Dapat dikatakan bahwa iHerb merupakan platform yang memiliki performa paling baik."
   ]
  },
  {
   "cell_type": "markdown",
   "id": "e8cf7898",
   "metadata": {},
   "source": [
    "### 5.4 PLATFORM MANA YANG MEMILIKI TOTAL PENDAPATAN PALING TINGGI \n",
    "\n",
    "Dalam kurun waktu 2020 - 2024 dapat dilakukan perhitungan untuk mengetahui pada tahun berapa penjualan memiliki total pendapatan yang paling tinggi, hal ini dapat membantu untuk mengetahui bagaimana pola konsumsi customer dalam pembelian produk dari tahun ke tahun. Perhitungan dapat dilakukan dengan menjumlahkan total revenue dan dibandingkan dengan tiap tahunnya."
   ]
  },
  {
   "cell_type": "code",
   "execution_count": 313,
   "id": "085b17d3",
   "metadata": {},
   "outputs": [],
   "source": [
    "# Menghitung total revenue berdasarkan tahunnya \n",
    "revenue_per_year = new_df_filtered.groupby(['platform', 'year'])['revenue'].sum().reset_index().sort_values(by= 'year', ascending=False)"
   ]
  },
  {
   "cell_type": "code",
   "execution_count": 314,
   "id": "e9aa978b",
   "metadata": {},
   "outputs": [
    {
     "name": "stdout",
     "output_type": "stream",
     "text": [
      "   platform  year     revenue\n",
      "4    Amazon  2024  1486213.90\n",
      "14    iHerb  2024  1605570.08\n",
      "9   Walmart  2024  1337583.37\n",
      "8   Walmart  2023  1484853.82\n",
      "13    iHerb  2023  1413131.44\n",
      "3    Amazon  2023  1572885.49\n",
      "2    Amazon  2022  1415203.28\n",
      "12    iHerb  2022  1365329.01\n",
      "7   Walmart  2022  1592276.26\n",
      "1    Amazon  2021  1306556.53\n",
      "6   Walmart  2021  1476022.33\n",
      "11    iHerb  2021  1511669.31\n",
      "0    Amazon  2020  1574643.60\n",
      "5   Walmart  2020  1163234.18\n",
      "10    iHerb  2020  1585515.44\n"
     ]
    }
   ],
   "source": [
    "# Menampilkan hasil perhitungan\n",
    "print(revenue_per_year)"
   ]
  },
  {
   "cell_type": "code",
   "execution_count": 315,
   "id": "b01e4e2b",
   "metadata": {},
   "outputs": [
    {
     "data": {
      "image/png": "[encoded data removed]",
      "text/plain": [
       "<Figure size 1200x600 with 1 Axes>"
      ]
     },
     "metadata": {},
     "output_type": "display_data"
    }
   ],
   "source": [
    "# # Pembuatan plot visualisasi menggunakan barplot karena ingin membandingkan pendapatan platform tiap tahun \n",
    "plt.figure(figsize=(12, 6))\n",
    "\n",
    "# Barplot: x = tahun, y = total revenue, hue = platform\n",
    "sns.barplot(data=revenue_per_year, x='year', y='revenue', hue='platform')\n",
    "\n",
    "plt.title('Total Revenue Tiap Platform Berdasarkan Year') # Pembuatan judul\n",
    "plt.xlabel('Tahun') # Pembuatan title pada x-axis\n",
    "plt.ylabel('Total Revenue') # Pembuatan title pada y-axis\n",
    "plt.legend(title='Platform', loc='upper left', bbox_to_anchor=(1, 1)) # Pembuatan legenda\n",
    "plt.tight_layout()\n",
    "plt.grid(True, axis='y') # Menampilkan grid hanya sumbu y saja\n",
    "plt.show()"
   ]
  },
  {
   "cell_type": "markdown",
   "id": "af3c1c9a",
   "metadata": {},
   "source": [
    "Berdasarkan grafik barplot diatas dapat diketahui bahwa pada tahun 2020 dan 2021 iHerb memiliki total revenue tertinggi sebesar 1585515.44, dan 1511669.31, pada tahun 2022 total revenue tertinggi dimiliki oleh Walmart dengan total revenue sebesar 1592276.26, pada tahun 2023 total revenue tertinggi dimiliki oleh Amazon dengan total revenue sebesar 1572885.49 dan pada tahun 2024 total revenue tertinggi dimiliki oleh iHerb dengan total revenue sebesar 1605570.08.  "
   ]
  },
  {
   "cell_type": "code",
   "execution_count": 332,
   "id": "01161d4f",
   "metadata": {},
   "outputs": [
    {
     "data": {
      "text/html": [
       "<div>\n",
       "<style scoped>\n",
       "    .dataframe tbody tr th:only-of-type {\n",
       "        vertical-align: middle;\n",
       "    }\n",
       "\n",
       "    .dataframe tbody tr th {\n",
       "        vertical-align: top;\n",
       "    }\n",
       "\n",
       "    .dataframe thead th {\n",
       "        text-align: right;\n",
       "    }\n",
       "</style>\n",
       "<table border=\"1\" class=\"dataframe\">\n",
       "  <thead>\n",
       "    <tr style=\"text-align: right;\">\n",
       "      <th></th>\n",
       "      <th>platform</th>\n",
       "      <th>revenue</th>\n",
       "    </tr>\n",
       "  </thead>\n",
       "  <tbody>\n",
       "    <tr>\n",
       "      <th>0</th>\n",
       "      <td>Amazon</td>\n",
       "      <td>7355502.80</td>\n",
       "    </tr>\n",
       "    <tr>\n",
       "      <th>1</th>\n",
       "      <td>Walmart</td>\n",
       "      <td>7053969.96</td>\n",
       "    </tr>\n",
       "    <tr>\n",
       "      <th>2</th>\n",
       "      <td>iHerb</td>\n",
       "      <td>7481215.28</td>\n",
       "    </tr>\n",
       "  </tbody>\n",
       "</table>\n",
       "</div>"
      ],
      "text/plain": [
       "  platform     revenue\n",
       "0   Amazon  7355502.80\n",
       "1  Walmart  7053969.96\n",
       "2    iHerb  7481215.28"
      ]
     },
     "metadata": {},
     "output_type": "display_data"
    }
   ],
   "source": [
    "# Menjumlahkan seluruh total revenue berdasarkan platform akumulasi dari setiap tahun \n",
    "revenue_total = revenue_per_year.groupby(['platform'])['revenue'].sum().reset_index()\n",
    "\n",
    "# Menampilkan data total platform yang digunakan selama 2020 - 2024\n",
    "display(revenue_total)"
   ]
  },
  {
   "cell_type": "code",
   "execution_count": null,
   "id": "7ac4b7b3",
   "metadata": {},
   "outputs": [
    {
     "data": {
      "image/png": "[encoded data removed]",
      "text/plain": [
       "<Figure size 1000x600 with 1 Axes>"
      ]
     },
     "metadata": {},
     "output_type": "display_data"
    }
   ],
   "source": [
    "# Pembuatan plot visualisasi menggunakan barplot karena ingin membandingkan antara platfrom dengan total pendapatan \n",
    "plt.figure(figsize=(10,6))\n",
    "sns.barplot(data=revenue_total, x='platform', y='revenue', hue='platform')\n",
    "plt.title('Total Revenue Antar Platform Selama 5 Tahun') # Pembuatan Judul Grafik\n",
    "plt.ylabel('Total Revenue') # Penamaan label y-axis\n",
    "plt.xlabel('PlTotal') # Penamaan label x-axis\n",
    "plt.tight_layout() # Mengatur grafik agar lebih rapih \n",
    "plt.show()"
   ]
  },
  {
   "cell_type": "markdown",
   "id": "a767ad01",
   "metadata": {},
   "source": [
    "Berdasarkan grafik barplot diatas dapat diinterpretasikan bahwa platform iHerb merupakan platfrom yang memiliki nilai total revenue paling tinggi dalam 5 tahun kebelakang yaitu sebesar 7481215.28, hal ini dapat diartikan bahwa platform iHerb merupakan platform yang memiliki pendapatan paling tinggi dibandingkan 2 platform yang lain. "
   ]
  },
  {
   "cell_type": "markdown",
   "id": "9d23a77a",
   "metadata": {},
   "source": [
    "### 5.5 PLATFORM MANA YANG MENJADI FAVORITE OLEH CUSTOMER UNTUK BERBELANJA\n",
    "\n",
    "Para customer tentu memiliki tempat favorite untuk berbelanja, dengan cara menganalisa platform mana yang paling favorite untuk berbelanja dapat memberikan insight kepada produsen dalam penyebaran produk produk mereka. Analisa ini dapat dilakukan dengan cara menghitung frekuensi penggunaan platform yang kemudian akan dibandingkan setiap tahunnya. Hal ini dapat memberikan gambaran platform mana yang paling dominan setiap tahunnya. "
   ]
  },
  {
   "cell_type": "code",
   "execution_count": 267,
   "id": "4e7aa132",
   "metadata": {},
   "outputs": [
    {
     "data": {
      "text/plain": [
       "platform\n",
       "iHerb      1426\n",
       "Amazon     1404\n",
       "Walmart    1346\n",
       "Name: count, dtype: int64"
      ]
     },
     "execution_count": 267,
     "metadata": {},
     "output_type": "execute_result"
    }
   ],
   "source": [
    "# Menghitung jumlah keseluruhan value unique di dalam kolom Platform\n",
    "new_df_filtered['platform'].value_counts()"
   ]
  },
  {
   "cell_type": "markdown",
   "id": "0684955c",
   "metadata": {},
   "source": [
    "Secara keseluruhan dapat diketahui bahwa iHerb merupakan Platform yang paling sering digunakan customer untuk berbelanja. Hal ini dapat dilihat dari syntax diatas bahwa Platform iHerb dalam kurun waktu 5 tahun memiliki 1426 transaksi, dan Walmart sebagai Platform yang memiliki frekuensi transaksi paling sedikit sebanyak 1346 transaksi. "
   ]
  },
  {
   "cell_type": "code",
   "execution_count": null,
   "id": "65926ed2",
   "metadata": {},
   "outputs": [],
   "source": [
    "# Menghitung frekuensi Platform tiap tahunnya \n",
    "platform_fav = new_df_filtered.groupby(['year', 'platform']).size().reset_index(name = 'transaction') # Menggunakan size() karena ingin mencari frekuensi dari kolom platform, size lebih cocok ketika ingin menghitung jumlah baris/data yang bersifat non numeric"
   ]
  },
  {
   "cell_type": "code",
   "execution_count": null,
   "id": "4b9426d4",
   "metadata": {},
   "outputs": [
    {
     "data": {
      "text/html": [
       "<div>\n",
       "<style scoped>\n",
       "    .dataframe tbody tr th:only-of-type {\n",
       "        vertical-align: middle;\n",
       "    }\n",
       "\n",
       "    .dataframe tbody tr th {\n",
       "        vertical-align: top;\n",
       "    }\n",
       "\n",
       "    .dataframe thead th {\n",
       "        text-align: right;\n",
       "    }\n",
       "</style>\n",
       "<table border=\"1\" class=\"dataframe\">\n",
       "  <thead>\n",
       "    <tr style=\"text-align: right;\">\n",
       "      <th></th>\n",
       "      <th>year</th>\n",
       "      <th>platform</th>\n",
       "      <th>transaction</th>\n",
       "    </tr>\n",
       "  </thead>\n",
       "  <tbody>\n",
       "    <tr>\n",
       "      <th>12</th>\n",
       "      <td>2024</td>\n",
       "      <td>Amazon</td>\n",
       "      <td>283</td>\n",
       "    </tr>\n",
       "    <tr>\n",
       "      <th>14</th>\n",
       "      <td>2024</td>\n",
       "      <td>iHerb</td>\n",
       "      <td>304</td>\n",
       "    </tr>\n",
       "    <tr>\n",
       "      <th>13</th>\n",
       "      <td>2024</td>\n",
       "      <td>Walmart</td>\n",
       "      <td>261</td>\n",
       "    </tr>\n",
       "    <tr>\n",
       "      <th>10</th>\n",
       "      <td>2023</td>\n",
       "      <td>Walmart</td>\n",
       "      <td>274</td>\n",
       "    </tr>\n",
       "    <tr>\n",
       "      <th>9</th>\n",
       "      <td>2023</td>\n",
       "      <td>Amazon</td>\n",
       "      <td>292</td>\n",
       "    </tr>\n",
       "    <tr>\n",
       "      <th>11</th>\n",
       "      <td>2023</td>\n",
       "      <td>iHerb</td>\n",
       "      <td>266</td>\n",
       "    </tr>\n",
       "    <tr>\n",
       "      <th>6</th>\n",
       "      <td>2022</td>\n",
       "      <td>Amazon</td>\n",
       "      <td>270</td>\n",
       "    </tr>\n",
       "    <tr>\n",
       "      <th>7</th>\n",
       "      <td>2022</td>\n",
       "      <td>Walmart</td>\n",
       "      <td>301</td>\n",
       "    </tr>\n",
       "    <tr>\n",
       "      <th>8</th>\n",
       "      <td>2022</td>\n",
       "      <td>iHerb</td>\n",
       "      <td>261</td>\n",
       "    </tr>\n",
       "    <tr>\n",
       "      <th>4</th>\n",
       "      <td>2021</td>\n",
       "      <td>Walmart</td>\n",
       "      <td>290</td>\n",
       "    </tr>\n",
       "    <tr>\n",
       "      <th>3</th>\n",
       "      <td>2021</td>\n",
       "      <td>Amazon</td>\n",
       "      <td>252</td>\n",
       "    </tr>\n",
       "    <tr>\n",
       "      <th>5</th>\n",
       "      <td>2021</td>\n",
       "      <td>iHerb</td>\n",
       "      <td>290</td>\n",
       "    </tr>\n",
       "    <tr>\n",
       "      <th>1</th>\n",
       "      <td>2020</td>\n",
       "      <td>Walmart</td>\n",
       "      <td>220</td>\n",
       "    </tr>\n",
       "    <tr>\n",
       "      <th>2</th>\n",
       "      <td>2020</td>\n",
       "      <td>iHerb</td>\n",
       "      <td>305</td>\n",
       "    </tr>\n",
       "    <tr>\n",
       "      <th>0</th>\n",
       "      <td>2020</td>\n",
       "      <td>Amazon</td>\n",
       "      <td>307</td>\n",
       "    </tr>\n",
       "  </tbody>\n",
       "</table>\n",
       "</div>"
      ],
      "text/plain": [
       "    year platform  transaction\n",
       "12  2024   Amazon          283\n",
       "14  2024    iHerb          304\n",
       "13  2024  Walmart          261\n",
       "10  2023  Walmart          274\n",
       "9   2023   Amazon          292\n",
       "11  2023    iHerb          266\n",
       "6   2022   Amazon          270\n",
       "7   2022  Walmart          301\n",
       "8   2022    iHerb          261\n",
       "4   2021  Walmart          290\n",
       "3   2021   Amazon          252\n",
       "5   2021    iHerb          290\n",
       "1   2020  Walmart          220\n",
       "2   2020    iHerb          305\n",
       "0   2020   Amazon          307"
      ]
     },
     "execution_count": 268,
     "metadata": {},
     "output_type": "execute_result"
    }
   ],
   "source": [
    "# Menampilkan hasil syntax dan mengurutkannya \n",
    "platform_fav.sort_values(by= 'year', ascending=False)"
   ]
  },
  {
   "cell_type": "code",
   "execution_count": 350,
   "id": "4b48628f",
   "metadata": {},
   "outputs": [
    {
     "data": {
      "image/png": "[encoded data removed]",
      "text/plain": [
       "<Figure size 1000x600 with 1 Axes>"
      ]
     },
     "metadata": {},
     "output_type": "display_data"
    }
   ],
   "source": [
    "# Pembuatan plot visualisasi menggunakan barplot karena ingin membandingkan platform setiap tahun \n",
    "plt.figure(figsize=(10,6)) # Membuat canvas/ area gambar berukuran 10x6 inci \n",
    "sns.barplot(data=platform_fav, x='year', y='transaction', hue='platform') # Hue digunakan sebagai kategori pembeda yang divisualisasikan lewat warna\n",
    "plt.title('Total Transaksi Platform Penjualan Setiap Tahun') # Pembuatan Judul Grafik\n",
    "plt.ylabel('Jumlah Transaksi') # Penamaan label y-axis\n",
    "plt.xlabel('Tahun') # Penamaan label x-axis\n",
    "plt.legend(title='Platform', loc='upper left', bbox_to_anchor=(1, 1)) # Pembuatan Legenda \n",
    "plt.tight_layout() # Mengatur grafik agar lebih rapih \n",
    "plt.show()"
   ]
  },
  {
   "cell_type": "markdown",
   "id": "e034e0ea",
   "metadata": {},
   "source": [
    "Berdasarkan grafik barplot diatas dapat diketahui bahwa customer setiap tahunnya memiliki Platform favorit yang berbeda-beda. Pada tahun 2020 Amazon merupakan platform yang paling banyak menjual produk dengan total sebanyak 307 transaksi penjualan. Pada tahun 2021 Walmart dan iHerb memiliki kedudukan yang sama dalam penjualan produk di platform mereka dengan total sebanyak 290 transaksi penjualan, Pada tahun 2022 diikuti dengan Walmart sebanyak 301 transaksi penjualan, pada tahun 2023 diikuti dengan Amazon sebanyak 292 transaksi penjualan dan pada tahun 2024 diikuti dengan iHerb sebanyak 304 transaksi penjualan. "
   ]
  },
  {
   "cell_type": "code",
   "execution_count": 335,
   "id": "5a8f7676",
   "metadata": {},
   "outputs": [
    {
     "data": {
      "text/html": [
       "<div>\n",
       "<style scoped>\n",
       "    .dataframe tbody tr th:only-of-type {\n",
       "        vertical-align: middle;\n",
       "    }\n",
       "\n",
       "    .dataframe tbody tr th {\n",
       "        vertical-align: top;\n",
       "    }\n",
       "\n",
       "    .dataframe thead th {\n",
       "        text-align: right;\n",
       "    }\n",
       "</style>\n",
       "<table border=\"1\" class=\"dataframe\">\n",
       "  <thead>\n",
       "    <tr style=\"text-align: right;\">\n",
       "      <th></th>\n",
       "      <th>platform</th>\n",
       "      <th>transaction</th>\n",
       "    </tr>\n",
       "  </thead>\n",
       "  <tbody>\n",
       "    <tr>\n",
       "      <th>0</th>\n",
       "      <td>Amazon</td>\n",
       "      <td>1404</td>\n",
       "    </tr>\n",
       "    <tr>\n",
       "      <th>1</th>\n",
       "      <td>Walmart</td>\n",
       "      <td>1346</td>\n",
       "    </tr>\n",
       "    <tr>\n",
       "      <th>2</th>\n",
       "      <td>iHerb</td>\n",
       "      <td>1426</td>\n",
       "    </tr>\n",
       "  </tbody>\n",
       "</table>\n",
       "</div>"
      ],
      "text/plain": [
       "  platform  transaction\n",
       "0   Amazon         1404\n",
       "1  Walmart         1346\n",
       "2    iHerb         1426"
      ]
     },
     "metadata": {},
     "output_type": "display_data"
    }
   ],
   "source": [
    "# Menjumlahkan seluruh transaksi berdasarkan platform akumulasi dari semua tahun\n",
    "platform_total = platform_fav.groupby('platform')['transaction'].sum().reset_index()\n",
    "\n",
    "# Menampilkan data total platform yang digunakan selama 2020 - 2024\n",
    "display(platform_total)"
   ]
  },
  {
   "cell_type": "code",
   "execution_count": 243,
   "id": "727a2c8b",
   "metadata": {},
   "outputs": [
    {
     "data": {
      "image/png": "[encoded data removed]",
      "text/plain": [
       "<Figure size 1000x600 with 1 Axes>"
      ]
     },
     "metadata": {},
     "output_type": "display_data"
    }
   ],
   "source": [
    "# Pembuatan plot visualisasi menggunakan barplot karena ingin membandingkan antara platfrom dengan total transaction  \n",
    "plt.figure(figsize=(10,6))\n",
    "sns.barplot(data=platform_total, x='platform', y='transaction', hue='platform')\n",
    "plt.title('Total Transaksi Antar Platform Selama 5 Tahun') # Pembuatan Judul Grafik\n",
    "plt.ylabel('Jumlah Transaksi') # Penamaan label y-axis\n",
    "plt.xlabel('Platform') # Penamaan label x-axis\n",
    "plt.tight_layout() # Mengatur grafik agar lebih rapih \n",
    "plt.show()"
   ]
  },
  {
   "cell_type": "markdown",
   "id": "d14ff7f2",
   "metadata": {},
   "source": [
    "Berdasarkan grafik barplot diatas dapat diketahui bahwa iHerb merupakan platform yang paling dominan dalam kurun waktu 5 tahun, hal ini dapat dilihat dengan total transaksi pada platform iHerb selama 5 tahun sebanyak 1426 transaksi. Hal ini dapat diartikan bahwa iHerb merupakan platform yang paling diminati oleh customer."
   ]
  },
  {
   "cell_type": "markdown",
   "id": "60f8c5e4",
   "metadata": {},
   "source": [
    "### 5.6 APAKAH DISKON MEMPENGARUHI PENJUALAN PRODUK\n",
    "\n",
    "Dalam konteks bisnis diskon diberikan untuk menarik customer agar lebih tertarik dalam melakukan transaksi pembelian, hal ini baik untuk meningkatkan atensi customer, namun belum tentu diskon yang tinggi menjadi faktor penentu dalam penjualan produk. Maka dari itu akan dilakukan analisa menggunakan metode Pearson. Metode Pearson digunakan untuk mengetahui hubungan korelasi antara diskon dengan produk yang terjual, metode ini cocok digunakan untuk membandingkan 2 variabel yang memiliki distribusi normal. "
   ]
  },
  {
   "cell_type": "code",
   "execution_count": 225,
   "id": "1690077c",
   "metadata": {},
   "outputs": [
    {
     "name": "stdout",
     "output_type": "stream",
     "text": [
      "Nilai Korelasi Pearson  : -0.01\n",
      "Nilai p-value           : 0.73\n",
      "Hubungan tidak signifikan secara statistik\n"
     ]
    }
   ],
   "source": [
    "# Membandingkan antara diskon_produk dan produk_terjual\n",
    "\n",
    "diskon_produk = new_df_filtered['discount']\n",
    "produk_terjual = new_df_filtered['units_sold']\n",
    "\n",
    "# Menghitung korelasi antara 2 variabel menggunakan Pearson\n",
    "corr, p_value =stats.pearsonr(diskon_produk, produk_terjual)\n",
    "\n",
    "# Hasil Perhitungan\n",
    "print(f'Nilai Korelasi Pearson  : {corr:.2f}')\n",
    "print(f'Nilai p-value           : {p_value:.2f}')\n",
    "\n",
    "if p_value < 0.05:\n",
    "    print(\"Hubungan signifikan secara statistik \")\n",
    "else:\n",
    "    print(\"Hubungan tidak signifikan secara statistik\")"
   ]
  },
  {
   "cell_type": "markdown",
   "id": "4890f763",
   "metadata": {},
   "source": [
    "Kriteria Tingkat Kekuatan Korelasi Pearson\n",
    "1. Nilai Koefisien korelasi sebesar 0,00 - 0,19 = hubungan sangat rendah/ tidak ada \n",
    "2. Nilai Koefisien korelasi sebesar 0,20 - 0,39 = hubungan rendah\n",
    "3. Nilai Koefisien korelasi sebesar 0,40 - 0,59 = hubungan sedang\n",
    "4. Nilai Koefisien korelasi sebesar 0,60 - 0,79 = hubungan kuat\n",
    "5. Nilai Koefisien korelasi sebesar 0,80 - 1,00 = hubungan sangat kuat\n",
    "\n",
    "Berdasarkan hasil perhitungan diatas dapat diketahui bahwa nilai korelasi Pearson didapatkan sebesar -0.01 yang berarti bahwa tidak ada hubungan yang linear antara diskon dan jumlah produk yang terjual, selain itu nilai korelasi Pearson bersifat negatif yang dapat diartikan bahwa jika nilai diskon meningkat maka nilai produk terjual menurun, selain itu nilai mendekati 0 dimana perubahan diskon tidak akan berpengaruh langsung ke produk yang dijual. Nilai p-value > 0.05 menunjukkan bahwa hubungan antara diskon dengan produk terjual terjadi secara kebetulan dan tidak signifikan secara statistik, dimana tidak ada bukti kuat bahwa diskon mempengaruhi penjualan. Dapat dikatakan bahwa diskon bukan merupakan faktor yang mempengaruhi penjualan produk."
   ]
  },
  {
   "cell_type": "markdown",
   "id": "94f42c7b",
   "metadata": {},
   "source": [
    "### 5.7 APAKAH PLATFORM MEMPENGARUHI PRODUK YANG DIKEMBALIKAN (RETUR)\n",
    "\n",
    "Dalam bisnis consumer goods terkadang tidak semua barang hasil produksi memiliki kualitas yang bagus, ada moment dikala produk yang tidak memiliki kualitas baik akan menyebabkan customer merasa tidak puas sehingga akan melakukan pengembalian produk (retur). Hal ini penting diketahui untuk meminimalisir terjadinya komplain dan menjaga integritas dan loyalitas customer terhadap platform penjualan. Analisa dapat dilakukan dengan metode One-way ANOVA karena ingin melihat perbandingan antar platform Amazon, Walmart, dan iHerb."
   ]
  },
  {
   "cell_type": "code",
   "execution_count": null,
   "id": "70265ac8",
   "metadata": {},
   "outputs": [
    {
     "data": {
      "text/plain": [
       "array(['Walmart', 'Amazon', 'iHerb'], dtype=object)"
      ]
     },
     "execution_count": 340,
     "metadata": {},
     "output_type": "execute_result"
    }
   ],
   "source": [
    "# Menampilkan value unique pada kolom Platform\n",
    "new_df_filtered['platform'].unique()"
   ]
  },
  {
   "cell_type": "code",
   "execution_count": null,
   "id": "83fd6787",
   "metadata": {},
   "outputs": [],
   "source": [
    "# Mengextract value platform dan dibandingkan dengan unit yang dikembalikan\n",
    "amazon_returns = new_df_filtered[new_df_filtered['platform'] == 'Amazon']['units_returned'] # Untuk memfilter platform Amazon dan menyesuaikan unit yang di retur\n",
    "walmart_returns = new_df_filtered[new_df_filtered['platform'] == 'Walmart']['units_returned'] # Untuk memfilter platform Walmart dan menyesuaikan unit yang di retur\n",
    "iherb_returns = new_df_filtered[new_df_filtered['platform'] == 'iHerb']['units_returned'] # Untuk memfilter platform iHerb dan menyesuaikan unit yang di retur"
   ]
  },
  {
   "cell_type": "code",
   "execution_count": 343,
   "id": "4ff9b77b",
   "metadata": {},
   "outputs": [
    {
     "name": "stdout",
     "output_type": "stream",
     "text": [
      "Rata-rata barang retur dari platform Amazon : 1.56\n",
      "Rata-rata barang retur dari platform Walmart: 1.51\n",
      "Rata-rata barang retur dari platform iHerb  : 1.52\n"
     ]
    }
   ],
   "source": [
    "print(f'Rata-rata barang retur dari platform Amazon : {amazon_returns.mean():.2f}')\n",
    "print(f'Rata-rata barang retur dari platform Walmart: {walmart_returns.mean():.2f}')\n",
    "print(f'Rata-rata barang retur dari platform iHerb  : {iherb_returns.mean():.2f}')"
   ]
  },
  {
   "cell_type": "markdown",
   "id": "087c6f38",
   "metadata": {},
   "source": [
    "Hipotesis \n",
    "\n",
    "H0: Tidak ada perbedaan yang signifikan terhadap unit yang dikembalikan pada setiap platform \n",
    "\n",
    "H1: Ada perbedaan yang signifikan terhadap unit yang dikembalikan pada setiap platform"
   ]
  },
  {
   "cell_type": "code",
   "execution_count": 346,
   "id": "b17c2b07",
   "metadata": {},
   "outputs": [
    {
     "name": "stdout",
     "output_type": "stream",
     "text": [
      "P-value: 0.5114427887256162\n"
     ]
    }
   ],
   "source": [
    "res = stats.f_oneway(amazon_returns, walmart_returns, iherb_returns)\n",
    "print('P-value:',res.pvalue)"
   ]
  },
  {
   "cell_type": "markdown",
   "id": "3bcf310d",
   "metadata": {},
   "source": [
    "Berdasarkan hasil perhitungan menggunakan metode ANOVA nilai P-value didapatkan sebesar 0.51 dimana lebih besar daripada 0.05 maka Tolak H1 terima H0, dapat diartikan bahwa tidak ada perbedaan yang signifikan terhadap unit yang dikembalikan pada setiap platform. Maka tidak ada platform tertentu yang memiliki kasus pengembalian unit paling banyak(retur), hal ini bisa dilihat dengan hasil penelitian tolak H1 terima H0, dimana semua platform memiliki potensi retur yang sama. "
   ]
  },
  {
   "cell_type": "markdown",
   "id": "a7aa2c85",
   "metadata": {},
   "source": [
    "## 6. CONCLUSION"
   ]
  },
  {
   "cell_type": "markdown",
   "id": "fb0c7648",
   "metadata": {},
   "source": [
    "Kesimpulan yang didapatkan berdasarkan analisa ini bahwa, dataset penjualan supplemen dari 2020 - 2024 memiliki persebaran data yang cenderung terdistribusi secara normal. Kategori produk Vitamin dan Mineral merupakan kategori produk yang paling banyak diminati oleh customer dengan memiliki jumlah penjualan yang lebih tinggi daripada kategori produk lainnya. Berdasarkan tren penjualan produk yang dimiliki oleh setiap platform ternyata bervariatif dan cenderung fluktuatif, namun platform yang memiliki tren penjualan paling baik adalah platform iHerb dan iHerb merupakan platform yang paling banyak diminati oleh customer. Selain itu iHerb juga merupakan platform penjualan yang memiliki total revenue paling banyak selama 5 tahun. Pemberian diskon tidak selalu mengundang atensi kepada para calon customer, setelah melakukan analisa menggunakan uji Pearson memberikan hasil bahwa tidak ada korelasi yang kuat atas produk yang terjual dengan pemberian diskon, jikapun ada hanya terjadi secara kebetulan. \n",
    "\n",
    "Kasus pengembalian unit yang terjadi di setiap platform memiliki potensi yang sama, tidak ada platform yang memiliki kasus pengembalian unit (retur) paling banyak, hal ini didukung berdasarkan uji ANOVA yang menyatakan menerima H0 jadi setiap produk yang dijual diberbagai platform memiliki kualitas produk yang kurang lebih sama. Jika ingin mendapatkan performa penjualan terbaik maka platform iHerb merupakan platform yang paling memiliki potensi dengan penjualan produk Mineral dan Vitamin yang merupakan produk dengan minat paling tinggi dari berbagai platform penjualan. "
   ]
  },
  {
   "cell_type": "markdown",
   "id": "9ded2a38",
   "metadata": {},
   "source": [
    "## 6.1 Recommendation"
   ]
  },
  {
   "cell_type": "markdown",
   "id": "3e9bdc8a",
   "metadata": {},
   "source": [
    "Masih banyak potensi analisa yang bisa dilakukan berdasarkan dataset ini, seperti analisa secara spesifik produk mana yang memiliki penjualan terbaik berdasarkan lokasi, bagaimana pengaruh lokasi terhadap penjualan untuk melihat consumtif behaviour dari customer di setiap daerah, dan masih banyak lagi."
   ]
  }
 ],
 "metadata": {
  "kernelspec": {
   "display_name": "base",
   "language": "python",
   "name": "python3"
  },
  "language_info": {
   "codemirror_mode": {
    "name": "ipython",
    "version": 3
   },
   "file_extension": ".py",
   "mimetype": "text/x-python",
   "name": "python",
   "nbconvert_exporter": "python",
   "pygments_lexer": "ipython3",
   "version": "3.12.9"
  }
 },
 "nbformat": 4,
 "nbformat_minor": 5
}
